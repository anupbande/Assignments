{
 "cells": [
  {
   "cell_type": "markdown",
   "id": "e27cfd01-1abb-4697-bc42-99549cb8ea69",
   "metadata": {},
   "source": [
    "# Assignment 2"
   ]
  },
  {
   "cell_type": "markdown",
   "id": "b962d3e6-63a6-4038-b404-659ffb9119ab",
   "metadata": {},
   "source": [
    "Q.1. Create two int type variables, apply addition, subtraction, division and multiplications\n",
    "and store the results in variables. Then print the data in the following format by calling the\n",
    "variables:\n",
    "\n",
    "First variable is __ & second variable is __.\n",
    "\n",
    "Addition: __ + __ = __\n",
    "\n",
    "Subtraction: __ - __ = __\n",
    "\n",
    "Multiplication: __ * __ = __\n",
    "\n",
    "Division: __ / __ = __"
   ]
  },
  {
   "cell_type": "markdown",
   "id": "a3b75a8d-0e59-43d5-9dd4-a504c8b3c380",
   "metadata": {},
   "source": [
    "Ans. 1"
   ]
  },
  {
   "cell_type": "code",
   "execution_count": 19,
   "id": "9e6c9c49-1e90-4685-ad61-b6d7449e2bef",
   "metadata": {},
   "outputs": [
    {
     "name": "stdout",
     "output_type": "stream",
     "text": [
      "First variable is num1 = 50 & second variable is num2 = 25\n",
      "Addition: num1 + num2 =  75\n",
      "Subtraction: num1 - num2 =  25\n",
      "Multiplication: num1 * num2 =  1250\n",
      "Division: num1 / num2 =  2.0\n"
     ]
    }
   ],
   "source": [
    "# num1 = int(input(\"Enter the first variable: \"))\n",
    "# num2 = int(input(\"Enter the second variable: \"))\n",
    "num1 = 50\n",
    "num2 = 25\n",
    "\n",
    "print( \"First variable is num1 =\", num1, \"& second variable is num2 =\", num2)\n",
    "add = num1 + num2\n",
    "print (\"Addition: num1 + num2 = \", add)  \n",
    "sub = num1 - num2\n",
    "print (\"Subtraction: num1 - num2 = \", sub)  \n",
    "mul = num1 * num2\n",
    "print (\"Multiplication: num1 * num2 = \", mul)  \n",
    "div = num1 / num2\n",
    "print (\"Division: num1 / num2 = \", div)  \n"
   ]
  },
  {
   "cell_type": "markdown",
   "id": "7419679e-8826-4829-8ff4-f2527dc50830",
   "metadata": {},
   "source": [
    "Q.2. What is the difference between the following operators:\n",
    "(i) ‘/’ & ‘//’\n",
    "(ii) ‘**’ & ‘^’"
   ]
  },
  {
   "cell_type": "markdown",
   "id": "71bc5491-6b5c-4799-8549-cb4ef966ef5b",
   "metadata": {},
   "source": [
    "Ans. 2 \n",
    "\n",
    "(i) '/' & '//' -> The difference between Regular Division (\"/\") and Floor Division (\"// \") is that the regular division returns the exact result in floating-point value. While, the floor division returns the nearest whole integer point value."
   ]
  },
  {
   "cell_type": "code",
   "execution_count": 17,
   "id": "b769f076-2ee8-4fac-9571-71af99748166",
   "metadata": {},
   "outputs": [
    {
     "name": "stdout",
     "output_type": "stream",
     "text": [
      "3.3333333333333335\n",
      "3\n"
     ]
    }
   ],
   "source": [
    "a = 10\n",
    "b = 3\n",
    "print(a / b)  # Division, Output: 3.3333333333333335\n",
    "print(a // b) # Floor Division, Output: 3"
   ]
  },
  {
   "cell_type": "markdown",
   "id": "96f754eb-3b35-457a-aee5-f0eed6cfd4d4",
   "metadata": {},
   "source": [
    "(ii) ‘**’ & ‘^’ ->  \"**\" is a # Exponentional Operator which use for power sign example 3**3 = 3 * 3 * 3, while \n",
    "     \" ^ \" is a Bitwise operator deals with binary numbers. (Sets each bit to 1 if only one of two bits is 1)"
   ]
  },
  {
   "cell_type": "code",
   "execution_count": 34,
   "id": "c44f9bc2-e6bb-41b2-aea1-169527d6de3c",
   "metadata": {},
   "outputs": [
    {
     "name": "stdout",
     "output_type": "stream",
     "text": [
      "3 to the power of 3 is: 27\n",
      "\n",
      "8\n"
     ]
    }
   ],
   "source": [
    "# Exponentional Operator which use for power sign\n",
    "c = 3\n",
    "d = 3\n",
    "print (\"3 to the power of 3 is:\", c**d) # 3**3 means 3*3*3 = 27 \n",
    "print ()\n",
    "\n",
    "# XOR Operator ^ - Compares each bit of 1st operand to each bit of 2nd operand.  If one bit is 1 ( but not both),\n",
    "# the corresponding result bit is set to 1, otherwise the result bit is set to 0.\n",
    "h = 10 # 1 0 1 0\n",
    "g = 2 # 0 1 0 0\n",
    "result = h ^ g\n",
    "print (result)\n",
    "# 10 = 1 0 1 0\n",
    "#  2 = 0 0 1 0\n",
    "# ------------------------> It is converting \n",
    "# 8 = 1 0 0 0 ( in binary )"
   ]
  },
  {
   "cell_type": "markdown",
   "id": "7e1b97fa-73b7-4a69-87cb-e72739bdb4a6",
   "metadata": {},
   "source": [
    "Q.3. List the logical operators."
   ]
  },
  {
   "cell_type": "markdown",
   "id": "62a1d13a-6ba2-405b-9278-dde2ca5f44b1",
   "metadata": {},
   "source": [
    "Ans. 3 There are three Logical operators in python, and they are used on conditional statements (either True or False). They perform Logical AND, Logical OR and Logical NOT operations.\n",
    "\n",
    "Logical AND: True if both the operands are true.\n",
    "         And - satisfy both condition ( Admision for Masters in English litrature)\n",
    "         Condition - 1 marks in Graduation req above 60%.\n",
    "         Condition - 2 marks in English in graduation more then 70%.\n",
    "         Arman has 72% in Graduation but 60% in English subject. Candidate not selected as both condition not satisfy  \n",
    "         Ashish has 72% in Graduation but 75% in English subject. Candidate selected as both condition satisfy \n",
    "\n",
    "Logical OR: True if either of the operands is true.\n",
    "     OR - satisfy any one condition ( Admision for Masters in English litrature)\n",
    "         Condition - 1 marks in Graduation req above 60%.\n",
    "         Condition - 2 marks in English in graduation more then 70%.\n",
    "         sita has 72% in Graduation but 68% in English subject.\n",
    "         rita has 72% in Graduation but 75% in English subject.\n",
    "\n",
    "Logical NOT: True if operand is false."
   ]
  },
  {
   "cell_type": "code",
   "execution_count": 15,
   "id": "67ed8f23-ef68-49fd-932a-2aeb8d6298b6",
   "metadata": {},
   "outputs": [
    {
     "name": "stdout",
     "output_type": "stream",
     "text": [
      "False\n",
      "True\n",
      "True\n"
     ]
    }
   ],
   "source": [
    "a = True\n",
    "b = False\n",
    "print (a and b)\n",
    "print (a or b)\n",
    "print (not b) # it will give opposite result "
   ]
  },
  {
   "cell_type": "markdown",
   "id": "fb336b2b-8165-4b3d-84f9-a6b4cea27abd",
   "metadata": {},
   "source": [
    "Q.4. Explain right shift operator and left shift operator with examples."
   ]
  },
  {
   "cell_type": "markdown",
   "id": "ec6d5019-57fc-4e11-8d0d-c8dd3a831416",
   "metadata": {},
   "source": [
    "Ans. 4.\n",
    "\n",
    "Right Shift Operator >>: Shifts the bits of the number to the right by the number of bits specified. Each shift to the right corresponds to dividing the number by 2. "
   ]
  },
  {
   "cell_type": "code",
   "execution_count": 26,
   "id": "a85d500c-66e7-45e5-be8d-c27957fbfe97",
   "metadata": {},
   "outputs": [
    {
     "name": "stdout",
     "output_type": "stream",
     "text": [
      "2\n"
     ]
    }
   ],
   "source": [
    "x = 10        # in binary: 1010\n",
    "result = x >> 2  # result is 2 (in binary: 0010)\n",
    "print(result)"
   ]
  },
  {
   "cell_type": "markdown",
   "id": "3934cc15-35fd-4e9f-9a63-a35d030ad3b2",
   "metadata": {},
   "source": [
    "Left Shift Operator <<: Shifts the bits of the number to the left by the number of bits specified. Each shift to the left corresponds to multiplying the number by 2."
   ]
  },
  {
   "cell_type": "code",
   "execution_count": 27,
   "id": "0edfed3f-f8e1-43c6-bbc4-5f985f487759",
   "metadata": {},
   "outputs": [
    {
     "name": "stdout",
     "output_type": "stream",
     "text": [
      "40\n"
     ]
    }
   ],
   "source": [
    "y = 10        # in binary: 1010\n",
    "result = y << 2  # result is 40 (in binary: 101000)\n",
    "print(result)"
   ]
  },
  {
   "cell_type": "markdown",
   "id": "160160b1-df2d-4238-9b2a-7ed1506da58e",
   "metadata": {},
   "source": [
    "Q.5. Create a list containing int type data of length 15. Then write a code to check if 10 is\n",
    "present in the list or not"
   ]
  },
  {
   "cell_type": "markdown",
   "id": "0cd979e5-b074-4e1a-a772-96b42caeacb3",
   "metadata": {},
   "source": [
    "Ans.5. "
   ]
  },
  {
   "cell_type": "code",
   "execution_count": 33,
   "id": "312965b6-55ea-4d61-a8d4-5cd9cc0f8114",
   "metadata": {},
   "outputs": [
    {
     "name": "stdout",
     "output_type": "stream",
     "text": [
      "15\n",
      "True\n"
     ]
    }
   ],
   "source": [
    "list1 = [1, 2, 3, 4, 5, 6, 7, 8, 9, 10, 11, 12, 13, 14, 15]\n",
    "print(len(list1))     # check the lenght of list. \n",
    "print(10 in list1)    # Output: True - checking the no 10 is availabe in above list. \n"
   ]
  },
  {
   "cell_type": "code",
   "execution_count": null,
   "id": "0ea6cac5-2e2a-4a7b-b196-e2b12b9b6678",
   "metadata": {},
   "outputs": [],
   "source": []
  }
 ],
 "metadata": {
  "kernelspec": {
   "display_name": "Python 3 (ipykernel)",
   "language": "python",
   "name": "python3"
  },
  "language_info": {
   "codemirror_mode": {
    "name": "ipython",
    "version": 3
   },
   "file_extension": ".py",
   "mimetype": "text/x-python",
   "name": "python",
   "nbconvert_exporter": "python",
   "pygments_lexer": "ipython3",
   "version": "3.10.6"
  }
 },
 "nbformat": 4,
 "nbformat_minor": 5
}
