{
 "cells": [
  {
   "cell_type": "markdown",
   "id": "8e697093-271b-42ff-b244-98a5d8485277",
   "metadata": {},
   "source": [
    "# Assignment -1 "
   ]
  },
  {
   "cell_type": "markdown",
   "id": "1ac839c9-836d-47d8-8501-75dbf3a5000a",
   "metadata": {},
   "source": [
    " Que1. What are keywords in python? Using the keyword library, print all the python keywords."
   ]
  },
  {
   "cell_type": "markdown",
   "id": "02381672-3fb9-4d98-a596-109a22d8961f",
   "metadata": {},
   "source": [
    " Ans.1. Keywords in Python are special reserved words that have specific meanings and purposes and can not be used as ordinary identifiers. They are used to define the syntax and structure of the Python language. Keywords are immutable and case-sensitive. "
   ]
  },
  {
   "cell_type": "code",
   "execution_count": 3,
   "id": "a02c71ff-eaaa-4f33-9257-bd79ea254705",
   "metadata": {},
   "outputs": [
    {
     "name": "stdout",
     "output_type": "stream",
     "text": [
      "['False', 'None', 'True', 'and', 'as', 'assert', 'async', 'await', 'break', 'class', 'continue', 'def', 'del', 'elif', 'else', 'except', 'finally', 'for', 'from', 'global', 'if', 'import', 'in', 'is', 'lambda', 'nonlocal', 'not', 'or', 'pass', 'raise', 'return', 'try', 'while', 'with', 'yield']\n"
     ]
    }
   ],
   "source": [
    "# pip install keyword\n",
    "import keyword\n",
    "print (keyword.kwlist)"
   ]
  },
  {
   "cell_type": "markdown",
   "id": "4bf55d28-652e-488a-aa5e-0ca9f0c45248",
   "metadata": {},
   "source": [
    "Que 2.  What are the rules to create variables in python?"
   ]
  },
  {
   "cell_type": "markdown",
   "id": "19f4ea29-771d-4d9d-a54c-ed241a6e1d3f",
   "metadata": {},
   "source": [
    "Ans 2. A variable name must start with a letter or an underscore character (_). It cannot start with a digit. A variable name can only contain alpha-numeric characters and underscores ( a-z, A-Z , 0-9 , and _ ). Python is case sensitive language so Variable names are also case-sensitive it means anup, Anup and ANUP are three different variables."
   ]
  },
  {
   "cell_type": "markdown",
   "id": "9ecc64fb-3501-4b8d-b82c-fc15584bd197",
   "metadata": {},
   "source": [
    "Que 3. What are the standards and conventions followed for the nomenclature of variables in python to improve code readability and maintainability?"
   ]
  },
  {
   "cell_type": "markdown",
   "id": "4f3d439c-d630-4d95-9042-fa3219bba634",
   "metadata": {},
   "source": [
    "Ans 3. While nomenclature of variables in python we must remember that it should start with proper word (name) which is related to your program, or coding. Avoide single latters like a = amol, b = 85. As a and b can not definle the proper meaning.  We also keep in mind that varibales cannot start with a digit. Variables name are case sensitive so always check with uppper case and lower case, so while declaring it we should be very much correct (same), whenever we use that variables in hole file or program. "
   ]
  },
  {
   "cell_type": "markdown",
   "id": "1d72ab0e-e5b9-4a4d-a3d9-3302fe51bd36",
   "metadata": {},
   "source": [
    "Que 4. What will happen if a keyword is used as a variable name?"
   ]
  },
  {
   "cell_type": "markdown",
   "id": "eb5eeb95-bffc-4ba2-89dd-9b7b623e6bad",
   "metadata": {},
   "source": [
    "Ans 4. It will give us a Error - \"SyntaxError: invalid syntax.\" because keywords are reserved words and have predefined meanings and fuction in python language. But as we know python is case sensitive language, we can not use \"else\" keyword but we can use Else or eLse any one as all three are different for python.   "
   ]
  },
  {
   "cell_type": "markdown",
   "id": "0fa04216-517a-4872-a07e-8c37ccd460f6",
   "metadata": {},
   "source": [
    "Que 5. For what purpose def keyword is used?"
   ]
  },
  {
   "cell_type": "markdown",
   "id": "2568270a-3373-4dc8-a2e2-df82c2a2cef0",
   "metadata": {},
   "source": [
    "Ans 5. The def keyword in python is used to define the function that users can use to built their own function. "
   ]
  },
  {
   "cell_type": "markdown",
   "id": "bd070173-1a15-4e39-87f3-c38064b8c881",
   "metadata": {},
   "source": [
    "Que 6. What is the operation of this special character ‘\\’?"
   ]
  },
  {
   "cell_type": "markdown",
   "id": "4885f5eb-e5d8-418b-b806-6848940cfcb0",
   "metadata": {},
   "source": [
    "Ans 6. In Python for printing any string (any statement or sequesce of characters) we use quotetion (\" \") but durint the statment if we use any special character like \"\" or ' it will give syntex error as python read it as quote end so to avoide or escape this error we use \\ there. "
   ]
  },
  {
   "cell_type": "code",
   "execution_count": 9,
   "id": "76e20a41-6ed3-43b8-b972-04243ec407ac",
   "metadata": {},
   "outputs": [
    {
     "ename": "SyntaxError",
     "evalue": "invalid syntax. Perhaps you forgot a comma? (2593962249.py, line 2)",
     "output_type": "error",
     "traceback": [
      "\u001b[0;36m  Cell \u001b[0;32mIn [9], line 2\u001b[0;36m\u001b[0m\n\u001b[0;31m    print(\"This is \"Python\" first Assignment\") # This statment will give Error\u001b[0m\n\u001b[0m          ^\u001b[0m\n\u001b[0;31mSyntaxError\u001b[0m\u001b[0;31m:\u001b[0m invalid syntax. Perhaps you forgot a comma?\n"
     ]
    }
   ],
   "source": [
    "# Example\n",
    "print(\"This is \"Python\" first Assignment\") # This statment will give Error "
   ]
  },
  {
   "cell_type": "code",
   "execution_count": 10,
   "id": "3d6ebaaf-db7e-41dd-b73c-f20254d40953",
   "metadata": {},
   "outputs": [
    {
     "name": "stdout",
     "output_type": "stream",
     "text": [
      "This is \"python\" first Assignment\n"
     ]
    }
   ],
   "source": [
    "print (\"This is \\\"python\\\" first Assignment\")"
   ]
  },
  {
   "cell_type": "markdown",
   "id": "613211b9-9909-4377-b828-a3151bc06b6c",
   "metadata": {},
   "source": [
    "Que 7. Give an example of the following conditions:"
   ]
  },
  {
   "cell_type": "markdown",
   "id": "7c832fc3-4e2b-4180-8cea-32bcc858d081",
   "metadata": {},
   "source": [
    "Ans 7\n",
    "(i) Homogeneous list -> List is one data types in Python used to store collections of data or multiple items (elements) in one single variable. Lits is mutable. In Homogeneous list the elements are restricted to a specific type such as a list of Person objects, a list of String objects, a list of Book objects.\n",
    "Example -> Colors = [\"red\", \"green\", \"black\", \"orange\"] here colors is the list and the elements belongs to this list of same type. "
   ]
  },
  {
   "cell_type": "code",
   "execution_count": 12,
   "id": "b1bfd0eb-9f64-4fc1-b64f-87bc32a3b85a",
   "metadata": {},
   "outputs": [
    {
     "name": "stdout",
     "output_type": "stream",
     "text": [
      "['red', 'green', 'black', 'orange']\n",
      "<class 'list'>\n"
     ]
    }
   ],
   "source": [
    "colors = [\"red\", \"green\", \"black\", \"orange\"]\n",
    "print (colors)\n",
    "print (type(colors))"
   ]
  },
  {
   "cell_type": "markdown",
   "id": "94e8655e-9de3-451e-b77a-1cdc875a5a78",
   "metadata": {},
   "source": [
    "(ii) Heterogeneous set - A Set in Python is an unordered collection data type that is iterable, mutable and has no duplicate elements. In  heterogeneous set items or elements stored of any type numeric, string, boolean, objects, etc.\n",
    "Example -> \n",
    "set1 = {\"UK\", \"US\", \"India\", \"India\" , 25, 40 } here set2 is a set and the elements inside are string and numeric value. \n"
   ]
  },
  {
   "cell_type": "code",
   "execution_count": 13,
   "id": "593488ad-3bfd-426c-a270-2bf8b809cc0f",
   "metadata": {},
   "outputs": [
    {
     "name": "stdout",
     "output_type": "stream",
     "text": [
      "{'US', 40, 25, 'India', 'UK'}\n",
      "<class 'set'>\n"
     ]
    }
   ],
   "source": [
    "set1 = {\"UK\", \"US\", \"India\", \"India\" , 25, 40 }\n",
    "print(set1)\n",
    "print(type(set1))"
   ]
  },
  {
   "cell_type": "markdown",
   "id": "7d00f5f3-4b6e-4dff-b3e0-4ac3f23ef10a",
   "metadata": {},
   "source": [
    "(iii) Homogeneous tuple -> Tuple is one of data types in Python used to store collections of data or store multiple items in a single variablethe. Homogeneous tuples are  with same type . A tuple is a collection which is ordered and unchangeable, or we can say immutable.\n",
    "Example -> Fruits =  ( \"Apple\", \"Banana\", \"Grapes\", \"Almond\", \"Papaya\" ) here Fruits is the tuple and the elements belongs to this tuple is of same type or same family Fruits. "
   ]
  },
  {
   "cell_type": "code",
   "execution_count": 15,
   "id": "4979bfa0-6dcb-46de-bd5f-078a98ae473b",
   "metadata": {},
   "outputs": [
    {
     "name": "stdout",
     "output_type": "stream",
     "text": [
      "('Apple', 'Banana', 'Grapes', 'Almond', 'Papaya')\n",
      "<class 'tuple'>\n"
     ]
    }
   ],
   "source": [
    "Fruits =  ( \"Apple\", \"Banana\", \"Grapes\", \"Almond\", \"Papaya\" )\n",
    "print(Fruits)\n",
    "print (type(Fruits))"
   ]
  },
  {
   "cell_type": "markdown",
   "id": "392953d1-88ea-4926-b5a9-a80973e20ec2",
   "metadata": {},
   "source": [
    "Que 8. Explain the mutable and immutable data types with proper explanation & examples."
   ]
  },
  {
   "cell_type": "markdown",
   "id": "9d36ff20-8144-46bd-896c-2f43cf22d32d",
   "metadata": {},
   "source": [
    "The data types that allows you to change its values without changing its identity is a mutable object. where as the data types that doesn't allow changes in its value is an immutable object.\n",
    "Example Mutable data types - list, dictionary and set.\n",
    "Example Immutable data types - strings and tuples."
   ]
  },
  {
   "cell_type": "markdown",
   "id": "89f6f00d-38e1-47a3-b1cc-ab4b8012a482",
   "metadata": {},
   "source": [
    "Que 9. Write a code to create the given structure using only for loop.\n",
    "    *\n",
    "   ***\n",
    "  *****\n",
    " ********"
   ]
  },
  {
   "cell_type": "code",
   "execution_count": 14,
   "id": "96b70bad-058a-48b1-9d53-8cc1c97aee30",
   "metadata": {},
   "outputs": [
    {
     "name": "stdout",
     "output_type": "stream",
     "text": [
      "      * \n",
      "    * * * \n",
      "  * * * * * \n",
      "* * * * * * * \n"
     ]
    }
   ],
   "source": [
    "# printing pattern with for loop\n",
    "n = 4\n",
    "for i in range (n):\n",
    "    for j in range(n-i-1):\n",
    "        print (\" \", end=\" \")\n",
    "    for j in range(2*i+1):\n",
    "        print (\"*\", end=\" \")\n",
    "    print()\n",
    "    "
   ]
  },
  {
   "cell_type": "markdown",
   "id": "50d39e14-11a4-4fb7-a84b-7ba07757ed3d",
   "metadata": {},
   "source": [
    "Que 10. Write a code to create the given structure using while loop.\n",
    " |||||||||\n",
    "  |||||||\n",
    "   |||||\n",
    "    |||\n",
    "     |   "
   ]
  },
  {
   "cell_type": "code",
   "execution_count": 30,
   "id": "fcbe3e41-aab6-457a-907b-201fb6dee5b9",
   "metadata": {},
   "outputs": [
    {
     "name": "stdout",
     "output_type": "stream",
     "text": [
      "|||||||||\n",
      " |||||||\n",
      "  |||||\n",
      "   |||\n",
      "    |\n"
     ]
    }
   ],
   "source": [
    "# printing pattern with while loop\n",
    "n = 5\n",
    "i = 1\n",
    "while n>0:\n",
    "    b = 1\n",
    "    while b<i:\n",
    "        print(\"\", end=\" \")\n",
    "        # print()\n",
    "        b = b + 1\n",
    "    c = 1\n",
    "    while c<=(n*2)-1:\n",
    "        print(\"|\", end=\"\")\n",
    "        c = c + 1\n",
    "    print()\n",
    "    n = n - 1\n",
    "    i = i + 1 "
   ]
  }
 ],
 "metadata": {
  "kernelspec": {
   "display_name": "Python 3 (ipykernel)",
   "language": "python",
   "name": "python3"
  },
  "language_info": {
   "codemirror_mode": {
    "name": "ipython",
    "version": 3
   },
   "file_extension": ".py",
   "mimetype": "text/x-python",
   "name": "python",
   "nbconvert_exporter": "python",
   "pygments_lexer": "ipython3",
   "version": "3.10.6"
  }
 },
 "nbformat": 4,
 "nbformat_minor": 5
}
